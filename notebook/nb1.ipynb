{
 "cells": [
  {
   "cell_type": "code",
   "execution_count": 1,
   "metadata": {},
   "outputs": [
    {
     "name": "stdout",
     "output_type": "stream",
     "text": [
      "[1, 2, 3, 4, 5, 7] None\n"
     ]
    }
   ],
   "source": [
    "#Q3\n",
    "before = [1, 2, 3, 4, 5]\n",
    "def bar(lst):\n",
    "    return lst.append(7)\n",
    "\n",
    "after = bar(before)\n",
    "print before, after"
   ]
  },
  {
   "cell_type": "code",
   "execution_count": 5,
   "metadata": {},
   "outputs": [
    {
     "name": "stdout",
     "output_type": "stream",
     "text": [
      "A\n",
      "5\n",
      "6\n",
      "1\n"
     ]
    }
   ],
   "source": [
    "#Q6\n",
    "Z = 5\n",
    "X = \"\"\n",
    "while Z > -1:\n",
    "    Y = raw_input(\"\")\n",
    "    if Y in ('1', '2', '3') or len(Y) > Y:\n",
    "        break\n",
    "    X = X + Y\n",
    "    if Y in ('4', '5', '6'):\n",
    "        continue\n",
    "    Z = Z - 1"
   ]
  },
  {
   "cell_type": "code",
   "execution_count": 6,
   "metadata": {},
   "outputs": [
    {
     "data": {
      "text/plain": [
       "'A56'"
      ]
     },
     "execution_count": 6,
     "metadata": {},
     "output_type": "execute_result"
    }
   ],
   "source": [
    "X"
   ]
  },
  {
   "cell_type": "code",
   "execution_count": 7,
   "metadata": {},
   "outputs": [
    {
     "data": {
      "text/plain": [
       "4"
      ]
     },
     "execution_count": 7,
     "metadata": {},
     "output_type": "execute_result"
    }
   ],
   "source": [
    "Z"
   ]
  },
  {
   "cell_type": "code",
   "execution_count": 8,
   "metadata": {},
   "outputs": [
    {
     "name": "stdout",
     "output_type": "stream",
     "text": [
      "False abc 34°56'12.63\"S ab\n"
     ]
    }
   ],
   "source": [
    "#-*- coding: UTF-8 -*-\n",
    "x = isinstance(u'34\\xc2\\xb0', str)\n",
    "y = 'abc'.decode('ascii')\n",
    "z = \"\".join([u'34\\xb0', u\"56'\", u'12.63\"', u'S'])\n",
    "w = \"a\" + u\"b\"\n",
    "print x, y, z, w"
   ]
  },
  {
   "cell_type": "code",
   "execution_count": 9,
   "metadata": {
    "collapsed": true
   },
   "outputs": [],
   "source": [
    "mp = {1.2: 3.0, 5.0: 6.0}"
   ]
  },
  {
   "cell_type": "code",
   "execution_count": 10,
   "metadata": {},
   "outputs": [
    {
     "data": {
      "text/plain": [
       "3.0"
      ]
     },
     "execution_count": 10,
     "metadata": {},
     "output_type": "execute_result"
    }
   ],
   "source": [
    "mp[1.2]"
   ]
  },
  {
   "cell_type": "code",
   "execution_count": 13,
   "metadata": {},
   "outputs": [],
   "source": [
    "a = lambda x : x*3\n",
    "b = lambda y : y**2"
   ]
  },
  {
   "cell_type": "code",
   "execution_count": 14,
   "metadata": {
    "collapsed": true
   },
   "outputs": [],
   "source": [
    "dc = {a: 2, y: 3}"
   ]
  },
  {
   "cell_type": "code",
   "execution_count": 15,
   "metadata": {},
   "outputs": [
    {
     "data": {
      "text/plain": [
       "2"
      ]
     },
     "execution_count": 15,
     "metadata": {},
     "output_type": "execute_result"
    }
   ],
   "source": [
    "dc[a]"
   ]
  },
  {
   "cell_type": "code",
   "execution_count": 17,
   "metadata": {},
   "outputs": [
    {
     "name": "stdout",
     "output_type": "stream",
     "text": [
      "6\n",
      "9\n"
     ]
    }
   ],
   "source": [
    "print a(2)\n",
    "print b(3)"
   ]
  },
  {
   "cell_type": "code",
   "execution_count": 18,
   "metadata": {
    "collapsed": true
   },
   "outputs": [],
   "source": [
    "vector = [[1,2], [3,4], [5,6],[7,8],[9,10]]"
   ]
  },
  {
   "cell_type": "code",
   "execution_count": 27,
   "metadata": {},
   "outputs": [],
   "source": [
    "it = (x for y in vector for x in y if x % 2 ==0)"
   ]
  },
  {
   "cell_type": "code",
   "execution_count": 28,
   "metadata": {},
   "outputs": [
    {
     "data": {
      "text/plain": [
       "<generator object <genexpr> at 0x0000000005A66FC0>"
      ]
     },
     "execution_count": 28,
     "metadata": {},
     "output_type": "execute_result"
    }
   ],
   "source": [
    "it"
   ]
  },
  {
   "cell_type": "code",
   "execution_count": 26,
   "metadata": {},
   "outputs": [
    {
     "data": {
      "text/plain": [
       "[2, 4, 6, 8, 10]"
      ]
     },
     "execution_count": 26,
     "metadata": {},
     "output_type": "execute_result"
    }
   ],
   "source": [
    "list(it)"
   ]
  },
  {
   "cell_type": "code",
   "execution_count": 29,
   "metadata": {
    "collapsed": true
   },
   "outputs": [],
   "source": [
    "#Q17\n",
    "def test(x):\n",
    "    print x\n",
    "    if x % 3 == 0 : return test(x/3)\n",
    "    if x % 2 == 1 : return x\n",
    "    return test(2*x+1)"
   ]
  },
  {
   "cell_type": "code",
   "execution_count": 30,
   "metadata": {},
   "outputs": [
    {
     "name": "stdout",
     "output_type": "stream",
     "text": [
      "100\n",
      "201\n",
      "67\n"
     ]
    },
    {
     "data": {
      "text/plain": [
       "67"
      ]
     },
     "execution_count": 30,
     "metadata": {},
     "output_type": "execute_result"
    }
   ],
   "source": [
    "test(100)"
   ]
  },
  {
   "cell_type": "code",
   "execution_count": 31,
   "metadata": {},
   "outputs": [
    {
     "name": "stdout",
     "output_type": "stream",
     "text": [
      "l i t t l e  \n"
     ]
    }
   ],
   "source": [
    "s = \"mary had a little little lamb\"\n",
    "for c in s[11:18]:\n",
    "    print c,\n",
    "    if \"little\" in c: print c"
   ]
  },
  {
   "cell_type": "code",
   "execution_count": 37,
   "metadata": {},
   "outputs": [
    {
     "name": "stdout",
     "output_type": "stream",
     "text": [
      "[('m', '0'), ('a', '1'), ('r', '2'), ('y', '3'), (' ', '4'), ('h', '5'), ('a', '6'), ('d', '7'), (' ', '8'), ('a', '9'), (' ', '10'), ('l', '11'), ('i', '12'), ('t', '13'), ('t', '14'), ('l', '15'), ('e', '16'), (' ', '17'), ('l', '18'), ('i', '19'), ('t', '20'), ('t', '21'), ('l', '22'), ('e', '23'), (' ', '24'), ('l', '25'), ('a', '26'), ('m', '27'), ('b', '28')]\n"
     ]
    }
   ],
   "source": [
    "print [(s[i], str(i)) for i in range(len(s))]"
   ]
  },
  {
   "cell_type": "code",
   "execution_count": 33,
   "metadata": {},
   "outputs": [
    {
     "data": {
      "text/plain": [
       "False"
      ]
     },
     "execution_count": 33,
     "metadata": {},
     "output_type": "execute_result"
    }
   ],
   "source": [
    "\"little\" in \"l\""
   ]
  },
  {
   "cell_type": "code",
   "execution_count": 38,
   "metadata": {},
   "outputs": [
    {
     "name": "stdout",
     "output_type": "stream",
     "text": [
      "[[], [], [], [], [], [], [], [], [], [], [], []]\n"
     ]
    }
   ],
   "source": [
    "n = 12\n",
    "names = [[]]*n\n",
    "print names"
   ]
  },
  {
   "cell_type": "code",
   "execution_count": 39,
   "metadata": {},
   "outputs": [
    {
     "name": "stdout",
     "output_type": "stream",
     "text": [
      "[['Adam'], ['Adam'], ['Adam'], ['Adam'], ['Adam'], ['Adam'], ['Adam'], ['Adam'], ['Adam'], ['Adam'], ['Adam'], ['Adam']]\n"
     ]
    }
   ],
   "source": [
    "employee = \"Adam\"\n",
    "m = 6\n",
    "names[m].append(employee)\n",
    "print names"
   ]
  },
  {
   "cell_type": "code",
   "execution_count": 42,
   "metadata": {},
   "outputs": [
    {
     "name": "stdout",
     "output_type": "stream",
     "text": [
      "Car Bus 3 3\n"
     ]
    }
   ],
   "source": [
    "class vehicles:\n",
    "    count = 0\n",
    "    def __init__(self, value):\n",
    "        self.value = value\n",
    "        vehicles.count += 1\n",
    "    def getval(self):\n",
    "        return self.value\n",
    "    def getcount(cls):\n",
    "        return vehicles.count\n",
    "    counter = classmethod(getcount)\n",
    "\n",
    "v1 = \"Car\"\n",
    "v2 = \"Bus\"\n",
    "v3 = \"Bikes\"\n",
    "\n",
    "type1 = vehicles(v1)\n",
    "type2 = vehicles(v2)\n",
    "type3 = vehicles(v3)\n",
    "\n",
    "print type1.getval(), type2.getval(), vehicles.counter(), type2.getcount()"
   ]
  },
  {
   "cell_type": "code",
   "execution_count": null,
   "metadata": {
    "collapsed": true
   },
   "outputs": [],
   "source": []
  }
 ],
 "metadata": {
  "kernelspec": {
   "display_name": "Python 2",
   "language": "python",
   "name": "python2"
  },
  "language_info": {
   "codemirror_mode": {
    "name": "ipython",
    "version": 2
   },
   "file_extension": ".py",
   "mimetype": "text/x-python",
   "name": "python",
   "nbconvert_exporter": "python",
   "pygments_lexer": "ipython2",
   "version": "2.7.13"
  }
 },
 "nbformat": 4,
 "nbformat_minor": 2
}
